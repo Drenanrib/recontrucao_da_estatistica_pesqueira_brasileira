{
 "cells": [
  {
   "cell_type": "code",
   "execution_count": 1,
   "metadata": {},
   "outputs": [],
   "source": [
    "import pandas as pd\n",
    "import numpy as np\n",
    "import matplotlib.pyplot as plt\n",
    "import tensorflow as tf\n",
    "from tensorflow.keras import layers\n",
    "import matplotlib.pyplot as plt"
   ]
  },
  {
   "cell_type": "code",
   "execution_count": 3,
   "metadata": {},
   "outputs": [
    {
     "name": "stdout",
     "output_type": "stream",
     "text": [
      "d:\\reconstrucao_estatistica_pesqueira\\reconstrucao_estatistica_brasileira\\recontrucao_da_estatistica_pesqueira_brasileira\n"
     ]
    }
   ],
   "source": [
    "import os\n",
    "os.chdir(r'd:\\reconstrucao_estatistica_pesqueira\\reconstrucao_estatistica_brasileira\\recontrucao_da_estatistica_pesqueira_brasileira')\n",
    "print(os.getcwd())"
   ]
  },
  {
   "cell_type": "code",
   "execution_count": 4,
   "metadata": {},
   "outputs": [
    {
     "name": "stderr",
     "output_type": "stream",
     "text": [
      "<>:1: SyntaxWarning: invalid escape sequence '\\R'\n",
      "<>:1: SyntaxWarning: invalid escape sequence '\\R'\n",
      "C:\\Users\\Renan\\AppData\\Local\\Temp\\ipykernel_4620\\1044492347.py:1: SyntaxWarning: invalid escape sequence '\\R'\n",
      "  df = pd.read_excel('Dados\\RJ_Reconstrucao_Crustaceos_2024_06_25xlsx')\n"
     ]
    }
   ],
   "source": [
    "df = pd.read_excel('Dados\\RJ_Reconstrucao_Crustaceos_2024_06_25xlsx')"
   ]
  }
 ],
 "metadata": {
  "kernelspec": {
   "display_name": "Python 3",
   "language": "python",
   "name": "python3"
  },
  "language_info": {
   "codemirror_mode": {
    "name": "ipython",
    "version": 3
   },
   "file_extension": ".py",
   "mimetype": "text/x-python",
   "name": "python",
   "nbconvert_exporter": "python",
   "pygments_lexer": "ipython3",
   "version": "3.12.4"
  }
 },
 "nbformat": 4,
 "nbformat_minor": 2
}
