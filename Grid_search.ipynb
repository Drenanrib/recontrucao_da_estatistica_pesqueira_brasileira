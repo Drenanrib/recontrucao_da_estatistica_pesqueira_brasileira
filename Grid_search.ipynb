{
 "cells": [
  {
   "cell_type": "code",
   "execution_count": 121,
   "metadata": {},
   "outputs": [
    {
     "ename": "SyntaxError",
     "evalue": "unmatched ')' (1896214251.py, line 47)",
     "output_type": "error",
     "traceback": [
      "\u001b[1;36m  Cell \u001b[1;32mIn[121], line 47\u001b[1;36m\u001b[0m\n\u001b[1;33m    )\u001b[0m\n\u001b[1;37m    ^\u001b[0m\n\u001b[1;31mSyntaxError\u001b[0m\u001b[1;31m:\u001b[0m unmatched ')'\n"
     ]
    }
   ],
   "source": [
    "import tensorflow as tf\n",
    "from tensorflow import keras\n",
    "from tensorflow.keras import layers\n",
    "from kerastuner.tuners import RandomSearch\n",
    "\n",
    "def build_model(hp):\n",
    "    model = keras.Sequential()\n",
    "    model.add(layers.Dense(units=hp.Int('units_1', min_value=32, max_value=128, step=16),\n",
    "                           activation='relu', input_shape=(1,)))\n",
    "    for i in range(hp.Int('num_layers', 1, 4)):\n",
    "        model.add(layers.Dense(units=hp.Int(f'units_{i+2}', min_value=32, max_value=128, step=16),\n",
    "                               activation='relu'))\n",
    "    model.add(layers.Dense(1, activation='linear'))\n",
    "\n",
    "    # Otimizador e taxa de aprendizado\n",
    "    optimizer = keras.optimizers.Nadam(learning_rate=hp.Choice('learning_rate', [1e-2, 1e-3, 1e-4]))\n",
    "    \n",
    "    model.compile(optimizer=optimizer, loss='mse', metrics=['accuracy'])\n",
    "    \n",
    "    return model\n",
    "\n",
    "# Configurar o tuner\n",
    "tuner = RandomSearch(\n",
    "    build_model,\n",
    "    objective='val_loss',\n",
    "    max_trials=10,\n",
    "    executions_per_trial=3,\n",
    "    directory='my_dir',\n",
    "    project_name='keras_hyperparam_tuning'\n",
    ")\n",
    "\n",
    "# Executar a busca de hiperparâmetros\n",
    "tuner.search(x_normalized, y_normalized, epochs=1000, batch_size=6, steps_per_epoch=50, validation_split=0.2)\n",
    "\n",
    "# Obter os melhores hiperparâmetros\n",
    "best_hps = tuner.get_best_hyperparameters(num_trials=1)[0]\n",
    "print(\"Melhores hiperparâmetros:\", best_hps.values)\n",
    "\n",
    "# Treinar o modelo final com os melhores hiperparâmetros\n",
    "best_model = tuner.hypermodel.build(best_hps)\n",
    "best_model.fit(x_normalized, y_normalized, epochs=1000, batch_size=6, steps_per_epoch=50, validation_split=0.2)\n",
    "\n",
    "# Avaliar o modelo final\n",
    "loss, accuracy = best_model.evaluate(x_normalized, y_normalized)\n",
    "print(\"Perda e acurácia do modelo final:\", loss, accuracy)\n",
    "\n",
    ")"
   ]
  }
 ],
 "metadata": {
  "kernelspec": {
   "display_name": "Python 3",
   "language": "python",
   "name": "python3"
  },
  "language_info": {
   "codemirror_mode": {
    "name": "ipython",
    "version": 3
   },
   "file_extension": ".py",
   "mimetype": "text/x-python",
   "name": "python",
   "nbconvert_exporter": "python",
   "pygments_lexer": "ipython3",
   "version": "3.12.4"
  }
 },
 "nbformat": 4,
 "nbformat_minor": 2
}
