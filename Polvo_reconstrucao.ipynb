{
 "cells": [
  {
   "cell_type": "code",
   "execution_count": 2,
   "metadata": {},
   "outputs": [],
   "source": [
    "import pandas as pd\n",
    "import numpy as np\n",
    "import matplotlib.pyplot as plt\n",
    "import tensorflow as tf\n",
    "from tensorflow.keras import layers\n",
    "import matplotlib.pyplot as plt\n",
    "from sklearn.model_selection import ParameterGrid"
   ]
  },
  {
   "cell_type": "code",
   "execution_count": 4,
   "metadata": {},
   "outputs": [
    {
     "name": "stdout",
     "output_type": "stream",
     "text": [
      "    Ano  Lula_art  Lula_ind  Lula_art_ind  Lula_oceanica_art  Calamar_ind  \\\n",
      "0  1950       NaN       NaN           NaN                NaN          NaN   \n",
      "1  1951       NaN       NaN           NaN                NaN          NaN   \n",
      "2  1952       NaN       NaN           NaN                NaN          NaN   \n",
      "3  1953       NaN       NaN           NaN                NaN          NaN   \n",
      "4  1954       NaN       NaN           NaN                NaN          NaN   \n",
      "\n",
      "   Polvo_art  Polvo_ind  Polvo_art_ind  Polvo_cabecinha_art  ...  \\\n",
      "0        NaN        NaN            NaN                  NaN  ...   \n",
      "1        NaN        NaN            NaN                  NaN  ...   \n",
      "2        NaN        NaN            NaN                  NaN  ...   \n",
      "3        NaN        NaN            NaN                  NaN  ...   \n",
      "4        NaN        NaN            NaN                  NaN  ...   \n",
      "\n",
      "   Mexilhao_art  Mexilhao_ind  Mexilhao_mangue_art  Caramujo_art  \\\n",
      "0           NaN           NaN                  NaN           NaN   \n",
      "1           NaN           NaN                  NaN           NaN   \n",
      "2           NaN           NaN                  NaN           NaN   \n",
      "3           NaN           NaN                  NaN           NaN   \n",
      "4           NaN           NaN                  NaN           NaN   \n",
      "\n",
      "   Caramujo_ind  Vieira_ind  Berbigao_art  Vongole_art  TOTAL_MOLLUSCS  \\\n",
      "0           NaN         NaN           NaN          NaN             NaN   \n",
      "1           NaN         NaN           NaN          NaN             NaN   \n",
      "2           NaN         NaN           NaN          NaN             NaN   \n",
      "3           NaN         NaN           NaN          NaN             NaN   \n",
      "4           NaN         NaN           NaN          NaN             NaN   \n",
      "\n",
      "   TOTAL_GROUPS_F&M  \n",
      "0           28137.0  \n",
      "1           27432.0  \n",
      "2           26648.0  \n",
      "3           24552.0  \n",
      "4           22755.0  \n",
      "\n",
      "[5 rows x 22 columns]\n"
     ]
    }
   ],
   "source": [
    "df = pd.read_excel('RJ_Reconstrucao_Moluscos_2024_06_06.xlsx')\n",
    "print(df.head())"
   ]
  },
  {
   "cell_type": "code",
   "execution_count": null,
   "metadata": {},
   "outputs": [],
   "source": [
    "x0 = df[['Ano', 'Lula_art']].dropna().values\n",
    "x1 = df[['Ano', 'Lula_ind']].dropna().values"
   ]
  }
 ],
 "metadata": {
  "kernelspec": {
   "display_name": "Python 3",
   "language": "python",
   "name": "python3"
  },
  "language_info": {
   "codemirror_mode": {
    "name": "ipython",
    "version": 3
   },
   "file_extension": ".py",
   "mimetype": "text/x-python",
   "name": "python",
   "nbconvert_exporter": "python",
   "pygments_lexer": "ipython3",
   "version": "3.12.4"
  }
 },
 "nbformat": 4,
 "nbformat_minor": 2
}
